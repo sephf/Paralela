{
  "nbformat": 4,
  "nbformat_minor": 0,
  "metadata": {
    "colab": {
      "provenance": [],
      "authorship_tag": "ABX9TyN9o+BdTsvveN/oSCR6L+FA",
      "include_colab_link": true
    },
    "kernelspec": {
      "name": "python3",
      "display_name": "Python 3"
    },
    "language_info": {
      "name": "python"
    }
  },
  "cells": [
    {
      "cell_type": "markdown",
      "metadata": {
        "id": "view-in-github",
        "colab_type": "text"
      },
      "source": [
        "<a href=\"https://colab.research.google.com/github/sephf/Paralela/blob/main/LaboratorioHilos.ipynb\" target=\"_parent\"><img src=\"https://colab.research.google.com/assets/colab-badge.svg\" alt=\"Open In Colab\"/></a>"
      ]
    },
    {
      "cell_type": "code",
      "execution_count": 1,
      "metadata": {
        "id": "jrv7rWopesVk"
      },
      "outputs": [],
      "source": [
        "import threading\n",
        "import random\n",
        "import time"
      ]
    },
    {
      "cell_type": "code",
      "source": [
        "def ordena_subvector(subvector,hilo):\n",
        "  tiempo_inicio=time.time()\n",
        "  subvector.sort()\n",
        "  print(subvector)\n",
        "  tiempo_fin = time.time()\n",
        "  tiempo_ejecucion = tiempo_fin - tiempo_inicio\n",
        "  print(f\"Hilo {hilo}: Subvector ordenado (Tiempo: {tiempo_ejecucion} segundos)\")"
      ],
      "metadata": {
        "id": "QOyHKRqLgaXg"
      },
      "execution_count": 39,
      "outputs": []
    },
    {
      "cell_type": "code",
      "source": [
        "def dividir_vector(vector, num_hilos):\n",
        "  longitud_subvector = len(vector) //num_hilos\n",
        "  subvectores = [vector[i:i+longitud_subvector] for i in range(0, len(vector), longitud_subvector)]\n",
        "  return subvectores"
      ],
      "metadata": {
        "id": "zXLnM7oDg6_E"
      },
      "execution_count": 10,
      "outputs": []
    },
    {
      "cell_type": "code",
      "source": [
        "def unir_vectores(subvectores):\n",
        "  vector_ordenado =[num for subvector in subvectores for num in subvector]\n",
        "  return vector_ordenado"
      ],
      "metadata": {
        "id": "4HBAAsJxhjdv"
      },
      "execution_count": 11,
      "outputs": []
    },
    {
      "cell_type": "code",
      "source": [
        "def ordenar_vector(vector, num_hilos):\n",
        "  tiempo_inicio=time.time()\n",
        "  subvectores = dividir_vector(vector, num_hilos)\n",
        "  threads=[]\n",
        "\n",
        "  for i, subvector in enumerate(subvectores):\n",
        "    thread = threading.Thread(target =ordena_subvector, args =(subvector,i))\n",
        "    thread.start()\n",
        "    threads.append(thread)\n",
        "  for thread in threads:\n",
        "    thread.join()\n",
        "  vector_ordenado = unir_vectores(subvectores)\n",
        "  vector_ordenado.sort()\n",
        "  tiempo_fin = time.time()\n",
        "  tiempo_ejecucion = tiempo_fin - tiempo_inicio\n",
        "  print(f\"Vector ordenado final: {vector_ordenado}\")\n",
        "  print(f\"Todos los hilos duran: {tiempo_ejecucion}\")\n",
        "  return tiempo_ejecucion\n",
        "\n"
      ],
      "metadata": {
        "id": "Bg3zOKcfhxi4"
      },
      "execution_count": 28,
      "outputs": []
    },
    {
      "cell_type": "code",
      "source": [
        "vector_grande = [random.randint(1,100) for _ in range(100)]\n",
        "num_hilos = int(input(\"Ingrese la cantidad de hilos: \"))\n",
        "ordenar_vector(vector=vector_grande ,num_hilos = num_hilos)"
      ],
      "metadata": {
        "colab": {
          "base_uri": "https://localhost:8080/"
        },
        "id": "LltoU1dnjrKF",
        "outputId": "4fd417da-874d-43aa-f84e-8a811334e18a"
      },
      "execution_count": 29,
      "outputs": [
        {
          "output_type": "stream",
          "name": "stdout",
          "text": [
            "Ingrese la cantidad de hilos: 4\n",
            "[2, 3, 8, 14, 20, 25, 27, 28, 30, 47, 47, 50, 61, 62, 78, 79, 80, 81, 82, 83, 84, 88, 95, 97, 99]\n",
            "Hilo 0: Subvector ordenado (Tiempo: 0.001127004623413086 segundos)\n",
            "[4, 17, 20, 22, 23, 24, 29, 30, 32, 33, 43, 51, 52, 54, 56, 65, 67, 74, 80, 82, 82, 84, 89, 92, 96][2, 3, 4, 7, 10, 11, 17, 20, 26, 29, 33, 36, 43, 44, 44, 54, 58, 63, 67, 68, 79, 83, 83, 85, 98]\n",
            "\n",
            "Hilo 2: Subvector ordenado (Tiempo: 0.0005042552947998047 segundos)\n",
            "Hilo 1: Subvector ordenado (Tiempo: 0.001566171646118164 segundos)\n",
            "[2, 5, 10, 14, 17, 19, 20, 23, 23, 28, 31, 39, 42, 45, 50, 55, 57, 60, 79, 84, 85, 86, 87, 89, 98]\n",
            "Hilo 3: Subvector ordenado (Tiempo: 0.0008592605590820312 segundos)\n",
            "Vector ordenado final: [2, 2, 2, 3, 3, 4, 4, 5, 7, 8, 10, 10, 11, 14, 14, 17, 17, 17, 19, 20, 20, 20, 20, 22, 23, 23, 23, 24, 25, 26, 27, 28, 28, 29, 29, 30, 30, 31, 32, 33, 33, 36, 39, 42, 43, 43, 44, 44, 45, 47, 47, 50, 50, 51, 52, 54, 54, 55, 56, 57, 58, 60, 61, 62, 63, 65, 67, 67, 68, 74, 78, 79, 79, 79, 80, 80, 81, 82, 82, 82, 83, 83, 83, 84, 84, 84, 85, 85, 86, 87, 88, 89, 89, 92, 95, 96, 97, 98, 98, 99]\n",
            "Todos los hilos duran: 0.007739543914794922\n"
          ]
        },
        {
          "output_type": "execute_result",
          "data": {
            "text/plain": [
              "0.007739543914794922"
            ]
          },
          "metadata": {},
          "execution_count": 29
        }
      ]
    },
    {
      "cell_type": "code",
      "source": [
        "def mejorhilo():\n",
        "  tiempo= ordenar_vector(vector=vector_grande ,num_hilos = 1)\n",
        "  hilos=1\n",
        "  for i in range(1,5):\n",
        "    tiempo2= ordenar_vector(vector=vector_grande ,num_hilos = i)\n",
        "    if(tiempo>tiempo2):\n",
        "      tiempo=tiempo2\n",
        "      hilos=i\n",
        "  print(f\"El mejor tiempo es {tiempo} con {hilos} hilos\")\n",
        "\n",
        "mejorhilo()"
      ],
      "metadata": {
        "colab": {
          "base_uri": "https://localhost:8080/"
        },
        "id": "BRrxbdLco4LR",
        "outputId": "14e38496-6266-4a25-d313-ba9c9378f440"
      },
      "execution_count": 58,
      "outputs": [
        {
          "output_type": "stream",
          "name": "stdout",
          "text": [
            "[2, 2, 2, 3, 3, 4, 4, 5, 7, 8, 10, 10, 11, 14, 14, 17, 17, 17, 19, 20, 20, 20, 20, 22, 23, 23, 23, 24, 25, 26, 27, 28, 28, 29, 29, 30, 30, 31, 32, 33, 33, 36, 39, 42, 43, 43, 44, 44, 45, 47, 47, 50, 50, 51, 52, 54, 54, 55, 56, 57, 58, 60, 61, 62, 63, 65, 67, 67, 68, 74, 78, 79, 79, 79, 80, 80, 81, 82, 82, 82, 83, 83, 83, 84, 84, 84, 85, 85, 86, 87, 88, 89, 89, 92, 95, 96, 97, 98, 98, 99]\n",
            "Hilo 0: Subvector ordenado (Tiempo: 0.0006794929504394531 segundos)\n",
            "Vector ordenado final: [2, 2, 2, 3, 3, 4, 4, 5, 7, 8, 10, 10, 11, 14, 14, 17, 17, 17, 19, 20, 20, 20, 20, 22, 23, 23, 23, 24, 25, 26, 27, 28, 28, 29, 29, 30, 30, 31, 32, 33, 33, 36, 39, 42, 43, 43, 44, 44, 45, 47, 47, 50, 50, 51, 52, 54, 54, 55, 56, 57, 58, 60, 61, 62, 63, 65, 67, 67, 68, 74, 78, 79, 79, 79, 80, 80, 81, 82, 82, 82, 83, 83, 83, 84, 84, 84, 85, 85, 86, 87, 88, 89, 89, 92, 95, 96, 97, 98, 98, 99]\n",
            "Todos los hilos duran: 0.0040094852447509766\n",
            "[2, 2, 2, 3, 3, 4, 4, 5, 7, 8, 10, 10, 11, 14, 14, 17, 17, 17, 19, 20, 20, 20, 20, 22, 23, 23, 23, 24, 25, 26, 27, 28, 28, 29, 29, 30, 30, 31, 32, 33, 33, 36, 39, 42, 43, 43, 44, 44, 45, 47, 47, 50, 50, 51, 52, 54, 54, 55, 56, 57, 58, 60, 61, 62, 63, 65, 67, 67, 68, 74, 78, 79, 79, 79, 80, 80, 81, 82, 82, 82, 83, 83, 83, 84, 84, 84, 85, 85, 86, 87, 88, 89, 89, 92, 95, 96, 97, 98, 98, 99]\n",
            "Hilo 0: Subvector ordenado (Tiempo: 0.0022106170654296875 segundos)\n",
            "Vector ordenado final: [2, 2, 2, 3, 3, 4, 4, 5, 7, 8, 10, 10, 11, 14, 14, 17, 17, 17, 19, 20, 20, 20, 20, 22, 23, 23, 23, 24, 25, 26, 27, 28, 28, 29, 29, 30, 30, 31, 32, 33, 33, 36, 39, 42, 43, 43, 44, 44, 45, 47, 47, 50, 50, 51, 52, 54, 54, 55, 56, 57, 58, 60, 61, 62, 63, 65, 67, 67, 68, 74, 78, 79, 79, 79, 80, 80, 81, 82, 82, 82, 83, 83, 83, 84, 84, 84, 85, 85, 86, 87, 88, 89, 89, 92, 95, 96, 97, 98, 98, 99]\n",
            "Todos los hilos duran: 0.002521991729736328\n",
            "[2, 3, 4, 8, 14, 17, 20, 20, 22, 23, 24, 25, 27, 28, 29, 30, 30, 32, 33, 43, 47, 47, 50, 51, 52, 54, 56, 61, 62, 65, 67, 74, 78, 79, 80, 80, 81, 82, 82, 82, 83, 84, 84, 88, 89, 92, 95, 96, 97, 99]\n",
            "Hilo 0: Subvector ordenado (Tiempo: 0.0003407001495361328 segundos)\n",
            "[2, 2, 3, 4, 5, 7, 10, 10, 11, 14, 17, 17, 19, 20, 20, 23, 23, 26, 28, 29, 31, 33, 36, 39, 42, 43, 44, 44, 45, 50, 54, 55, 57, 58, 60, 63, 67, 68, 79, 79, 83, 83, 84, 85, 85, 86, 87, 89, 98, 98]\n",
            "Hilo 1: Subvector ordenado (Tiempo: 0.0005102157592773438 segundos)\n",
            "Vector ordenado final: [2, 2, 2, 3, 3, 4, 4, 5, 7, 8, 10, 10, 11, 14, 14, 17, 17, 17, 19, 20, 20, 20, 20, 22, 23, 23, 23, 24, 25, 26, 27, 28, 28, 29, 29, 30, 30, 31, 32, 33, 33, 36, 39, 42, 43, 43, 44, 44, 45, 47, 47, 50, 50, 51, 52, 54, 54, 55, 56, 57, 58, 60, 61, 62, 63, 65, 67, 67, 68, 74, 78, 79, 79, 79, 80, 80, 81, 82, 82, 82, 83, 83, 83, 84, 84, 84, 85, 85, 86, 87, 88, 89, 89, 92, 95, 96, 97, 98, 98, 99]\n",
            "Todos los hilos duran: 0.0013842582702636719\n",
            "[2, 3, 4, 8, 14, 20, 20, 22, 24, 25, 27, 28, 30, 30, 32, 47, 47, 50, 61, 62, 78, 79, 80, 81, 82, 82, 83, 84, 88, 89, 95, 97, 99]\n",
            "Hilo 0: Subvector ordenado (Tiempo: 0.00020051002502441406 segundos)\n",
            "[2, 3, 4, 7, 10, 11, 17, 17, 23, 26, 29, 33, 33, 43, 43, 51, 52, 54, 54, 56, 58, 63, 65, 67, 67, 68, 74, 80, 82, 83, 84, 92, 96]\n",
            "Hilo 1: Subvector ordenado (Tiempo: 0.00028133392333984375 segundos)\n",
            "[2, 5, 10, 14, 17, 19, 20, 20, 23, 28, 29, 31, 36, 39, 42, 44, 44, 45, 50, 55, 57, 60, 79, 79, 83, 84, 85, 85, 86, 87, 89, 98, 98]\n",
            "Hilo 2: Subvector ordenado (Tiempo: 0.0001773834228515625 segundos)\n",
            "[23]\n",
            "Hilo 3: Subvector ordenado (Tiempo: 0.0006988048553466797 segundos)\n",
            "Vector ordenado final: [2, 2, 2, 3, 3, 4, 4, 5, 7, 8, 10, 10, 11, 14, 14, 17, 17, 17, 19, 20, 20, 20, 20, 22, 23, 23, 23, 24, 25, 26, 27, 28, 28, 29, 29, 30, 30, 31, 32, 33, 33, 36, 39, 42, 43, 43, 44, 44, 45, 47, 47, 50, 50, 51, 52, 54, 54, 55, 56, 57, 58, 60, 61, 62, 63, 65, 67, 67, 68, 74, 78, 79, 79, 79, 80, 80, 81, 82, 82, 82, 83, 83, 83, 84, 84, 84, 85, 85, 86, 87, 88, 89, 89, 92, 95, 96, 97, 98, 98, 99]\n",
            "Todos los hilos duran: 0.009142160415649414\n",
            "[2, 3, 8, 14, 20, 25, 27, 28, 30, 47, 47, 50, 61, 62, 78, 79, 80, 81, 82, 83, 84, 88, 95, 97, 99]\n",
            "Hilo 0: Subvector ordenado (Tiempo: 0.0002918243408203125 segundos)\n",
            "[4, 17, 20, 22, 23, 24, 29, 30, 32, 33, 43, 51, 52, 54, 56, 65, 67, 74, 80, 82, 82, 84, 89, 92, 96]\n",
            "Hilo 1: Subvector ordenado (Tiempo: 0.00016260147094726562 segundos)\n",
            "[2, 3, 4, 7, 10, 11, 17, 20, 26, 29, 33, 36, 43, 44, 44, 54, 58, 63, 67, 68, 79, 83, 83, 85, 98]\n",
            "Hilo 2: Subvector ordenado (Tiempo: 0.002314329147338867 segundos)\n",
            "[2, 5, 10, 14, 17, 19, 20, 23, 23, 28, 31, 39, 42, 45, 50, 55, 57, 60, 79, 84, 85, 86, 87, 89, 98]\n",
            "Hilo 3: Subvector ordenado (Tiempo: 0.0002048015594482422 segundos)\n",
            "Vector ordenado final: [2, 2, 2, 3, 3, 4, 4, 5, 7, 8, 10, 10, 11, 14, 14, 17, 17, 17, 19, 20, 20, 20, 20, 22, 23, 23, 23, 24, 25, 26, 27, 28, 28, 29, 29, 30, 30, 31, 32, 33, 33, 36, 39, 42, 43, 43, 44, 44, 45, 47, 47, 50, 50, 51, 52, 54, 54, 55, 56, 57, 58, 60, 61, 62, 63, 65, 67, 67, 68, 74, 78, 79, 79, 79, 80, 80, 81, 82, 82, 82, 83, 83, 83, 84, 84, 84, 85, 85, 86, 87, 88, 89, 89, 92, 95, 96, 97, 98, 98, 99]\n",
            "Todos los hilos duran: 0.0075304508209228516\n",
            "El mejor tiempo es 0.0013842582702636719 con 2 hilos\n"
          ]
        }
      ]
    }
  ]
}